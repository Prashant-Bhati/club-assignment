{
  "nbformat": 4,
  "nbformat_minor": 0,
  "metadata": {
    "colab": {
      "name": "Copy of numpy intro-Copy1.ipynb",
      "provenance": [],
      "collapsed_sections": [
        "R0VOXnBcAJSG",
        "fAkSZLC2H6KD",
        "W-dNJJISWAEt",
        "JeHc_8PYvzIG",
        "yvao7nAlhnFt",
        "atfCTa8-v567"
      ]
    },
    "kernelspec": {
      "display_name": "Python 3",
      "language": "python",
      "name": "python3"
    },
    "language_info": {
      "codemirror_mode": {
        "name": "ipython",
        "version": 3
      },
      "file_extension": ".py",
      "mimetype": "text/x-python",
      "name": "python",
      "nbconvert_exporter": "python",
      "pygments_lexer": "ipython3",
      "version": "3.7.8"
    }
  },
  "cells": [
    {
      "cell_type": "markdown",
      "metadata": {
        "colab_type": "text",
        "id": "R0VOXnBcAJSG"
      },
      "source": [
        "# Why numpy?\n",
        "1.   numpy stands for numerical python\n",
        "2.   If you wanna do data science and machine learning you need to learn it.\n",
        "3.   Why though? Because it's fast. With the help of this library we can crunch numbers much faster than trivial ways like python list, python loops, etc.\n",
        "\n"
      ]
    },
    {
      "cell_type": "code",
      "metadata": {
        "colab_type": "code",
        "id": "GbiGjZYy_462",
        "colab": {}
      },
      "source": [
        "# First of all. Let's import the numpy library as np\n",
        "import numpy as np"
      ],
      "execution_count": 31,
      "outputs": []
    },
    {
      "cell_type": "markdown",
      "metadata": {
        "colab_type": "text",
        "id": "fAkSZLC2H6KD"
      },
      "source": [
        "# numpy arrays\n"
      ]
    },
    {
      "cell_type": "code",
      "metadata": {
        "colab_type": "code",
        "id": "2IbpmwfQIMEY",
        "colab": {
          "base_uri": "https://localhost:8080/",
          "height": 67
        },
        "outputId": "f54f3008-1866-4dac-806d-e2fefb471684"
      },
      "source": [
        "a = np.zeros(3)   # Create an array of all zeros\n",
        "print(a)          # printing the arrays of zeros\n",
        "print(type(a))    # data type of variable a\n",
        "print(type(a[0])) # type of element inside the array"
      ],
      "execution_count": 32,
      "outputs": [
        {
          "output_type": "stream",
          "text": [
            "[0. 0. 0.]\n",
            "<class 'numpy.ndarray'>\n",
            "<class 'numpy.float64'>\n"
          ],
          "name": "stdout"
        }
      ]
    },
    {
      "cell_type": "code",
      "metadata": {
        "colab_type": "code",
        "id": "mhwy3dm4KC08",
        "colab": {
          "base_uri": "https://localhost:8080/",
          "height": 689
        },
        "outputId": "6a9294eb-739b-4fc1-e3b2-8178cd6b7242"
      },
      "source": [
        "x = np.zeros((2,3))       # Create an 2D array of all zeros\n",
        "print(\"x\\n\",x)                # printing the arrays of zeros\n",
        "print(\"Size of array x :\",x.size)    # printing the size of array\n",
        "print(type(x))    # data type of variable a\n",
        "print('shape of x : ',x.shape)\n",
        "print('row : ',x.shape[0])\n",
        "print('column  : ',x.shape[1])\n",
        "print(\"\\n-----------------\\n\")\n",
        "y=np.ones((4,3,5))\n",
        "print('shape of y : ',y.shape)\n",
        "print(\"y : \\n\",y)\n",
        "print(type(y))\n",
        "print(\"Size of array y :\",y.size)\n",
        "\n",
        "print(\"\\n-------------------\\n\")\n",
        "\n",
        "w=np.array([1,2,3,4])\n",
        "print('shape of w : ',w.shape)\n",
        "print(\"W :\\n\",w)\n",
        "w=np.reshape(w,(2,2))\n",
        "print(\"After reshaping: \\n\",w)\n",
        "print('Reshape of w : ',w.shape)\n"
      ],
      "execution_count": 33,
      "outputs": [
        {
          "output_type": "stream",
          "text": [
            "x\n",
            " [[0. 0. 0.]\n",
            " [0. 0. 0.]]\n",
            "Size of array x : 6\n",
            "<class 'numpy.ndarray'>\n",
            "shape of x :  (2, 3)\n",
            "row :  2\n",
            "column  :  3\n",
            "\n",
            "-----------------\n",
            "\n",
            "shape of y :  (4, 3, 5)\n",
            "y : \n",
            " [[[1. 1. 1. 1. 1.]\n",
            "  [1. 1. 1. 1. 1.]\n",
            "  [1. 1. 1. 1. 1.]]\n",
            "\n",
            " [[1. 1. 1. 1. 1.]\n",
            "  [1. 1. 1. 1. 1.]\n",
            "  [1. 1. 1. 1. 1.]]\n",
            "\n",
            " [[1. 1. 1. 1. 1.]\n",
            "  [1. 1. 1. 1. 1.]\n",
            "  [1. 1. 1. 1. 1.]]\n",
            "\n",
            " [[1. 1. 1. 1. 1.]\n",
            "  [1. 1. 1. 1. 1.]\n",
            "  [1. 1. 1. 1. 1.]]]\n",
            "<class 'numpy.ndarray'>\n",
            "Size of array y : 60\n",
            "\n",
            "-------------------\n",
            "\n",
            "shape of w :  (4,)\n",
            "W :\n",
            " [1 2 3 4]\n",
            "After reshaping: \n",
            " [[1 2]\n",
            " [3 4]]\n",
            "Reshape of w :  (2, 2)\n"
          ],
          "name": "stdout"
        }
      ]
    },
    {
      "cell_type": "markdown",
      "metadata": {
        "colab_type": "text",
        "id": "aeKTKmOSJSCY"
      },
      "source": [
        "Great now let's create different sizes of array using np.zeros"
      ]
    },
    {
      "cell_type": "code",
      "metadata": {
        "colab_type": "code",
        "id": "xUZ31cj8JQd4",
        "colab": {
          "base_uri": "https://localhost:8080/",
          "height": 252
        },
        "outputId": "da0dd2ee-89b7-4e41-ce6d-3e85c1025b12"
      },
      "source": [
        "b = np.zeros(10)                            # An array with slightly larger number of vaules\n",
        "print(b)                                    # Printing the array\n",
        "print(b.shape)                              # To derive the shape of the array\n",
        "b.shape = (10, 1)                           # To change the shape from (10,) to (10,1). We can also use b.reshape() to change the shape of arrays\n",
        "print(\"array with new shape: \\n\", b)        # Printing the array\n",
        "print(\"New shape:\", b.shape)                # To derive the shape of the array"
      ],
      "execution_count": 34,
      "outputs": [
        {
          "output_type": "stream",
          "text": [
            "[0. 0. 0. 0. 0. 0. 0. 0. 0. 0.]\n",
            "(10,)\n",
            "array with new shape: \n",
            " [[0.]\n",
            " [0.]\n",
            " [0.]\n",
            " [0.]\n",
            " [0.]\n",
            " [0.]\n",
            " [0.]\n",
            " [0.]\n",
            " [0.]\n",
            " [0.]]\n",
            "New shape: (10, 1)\n"
          ],
          "name": "stdout"
        }
      ]
    },
    {
      "cell_type": "code",
      "metadata": {
        "colab_type": "code",
        "id": "NdPAFStcKp_R",
        "colab": {
          "base_uri": "https://localhost:8080/",
          "height": 353
        },
        "outputId": "a3163816-655f-4e61-afbe-147c314bebdc"
      },
      "source": [
        "c = np.ones(12)                        # Create an array of all ones\n",
        "print(\"c:\", c, \"\\n--------------\")\n",
        "c=np.reshape(c,(4,3))\n",
        "print(\"Reshape c:\\n\", c, \"\\n--------------\")\n",
        "\n",
        "\n",
        "d = np.full((2,3), \"numpy\")                  # Create a constant array\n",
        "print(\"d:\\n\", d, \"\\n--------------\")\n",
        "print(\"type of d: \",type(d))\n",
        "\n",
        "\n",
        "e = np.eye(4,4)                          # Create a 2x2 identity matrix\n",
        "print(\"e:\\n\", e, \"\\n--------------\")\n",
        "\n",
        "f = np.linspace(2, 10, 5)              # From 2 to 10 with 5 elements\n",
        "print(\"f: \", f)"
      ],
      "execution_count": 35,
      "outputs": [
        {
          "output_type": "stream",
          "text": [
            "c: [1. 1. 1. 1. 1. 1. 1. 1. 1. 1. 1. 1.] \n",
            "--------------\n",
            "Reshape c:\n",
            " [[1. 1. 1.]\n",
            " [1. 1. 1.]\n",
            " [1. 1. 1.]\n",
            " [1. 1. 1.]] \n",
            "--------------\n",
            "d:\n",
            " [['numpy' 'numpy' 'numpy']\n",
            " ['numpy' 'numpy' 'numpy']] \n",
            "--------------\n",
            "type of d:  <class 'numpy.ndarray'>\n",
            "e:\n",
            " [[1. 0. 0. 0.]\n",
            " [0. 1. 0. 0.]\n",
            " [0. 0. 1. 0.]\n",
            " [0. 0. 0. 1.]] \n",
            "--------------\n",
            "f:  [ 2.  4.  6.  8. 10.]\n"
          ],
          "name": "stdout"
        }
      ]
    },
    {
      "cell_type": "code",
      "metadata": {
        "id": "eD3Omq9y5Dy_",
        "colab_type": "code",
        "colab": {
          "base_uri": "https://localhost:8080/",
          "height": 252
        },
        "outputId": "6b34fc86-29ef-440d-fa82-75dc31a1fee1"
      },
      "source": [
        "x=np.eye(3)\n",
        "print(\"x: \\n\",x)\n",
        "x=np.eye(3,k=1)\n",
        "print(\"\\nx:\\n \",x)\n",
        "x=np.eye(3,k=-2)\n",
        "print(\"\\nx:\\n \",x)"
      ],
      "execution_count": 36,
      "outputs": [
        {
          "output_type": "stream",
          "text": [
            "x: \n",
            " [[1. 0. 0.]\n",
            " [0. 1. 0.]\n",
            " [0. 0. 1.]]\n",
            "\n",
            "x:\n",
            "  [[0. 1. 0.]\n",
            " [0. 0. 1.]\n",
            " [0. 0. 0.]]\n",
            "\n",
            "x:\n",
            "  [[0. 0. 0.]\n",
            " [0. 0. 0.]\n",
            " [1. 0. 0.]]\n"
          ],
          "name": "stdout"
        }
      ]
    },
    {
      "cell_type": "code",
      "metadata": {
        "id": "yIfHsEYG5DzG",
        "colab_type": "code",
        "colab": {
          "base_uri": "https://localhost:8080/",
          "height": 118
        },
        "outputId": "e80051ca-c51a-4574-eb1b-00065e771bdb"
      },
      "source": [
        "y=np.array([1,2,3,4,5,6,7,8,9])\n",
        "print(\"y: \",y)\n",
        "y=np.reshape(y,(3,3))\n",
        "print(\"\\nReshape y:\\n\",y)\n"
      ],
      "execution_count": 37,
      "outputs": [
        {
          "output_type": "stream",
          "text": [
            "y:  [1 2 3 4 5 6 7 8 9]\n",
            "\n",
            "Reshape y:\n",
            " [[1 2 3]\n",
            " [4 5 6]\n",
            " [7 8 9]]\n"
          ],
          "name": "stdout"
        }
      ]
    },
    {
      "cell_type": "code",
      "metadata": {
        "colab_type": "code",
        "id": "5C9LZ1NAPxZU",
        "colab": {
          "base_uri": "https://localhost:8080/",
          "height": 50
        },
        "outputId": "fcd5a5fb-40d4-4480-d8ef-a54557869fea"
      },
      "source": [
        "# Finally np.array\n",
        "a = np.array([10, 20, 30, 40, 50], dtype=np.float32)    # ndarray from python List\n",
        "print(a)\n",
        "a_list = [10, 20, 30, 40, 60]\n",
        "a = np.array(a_list, dtype=np.float64)                  # ndarray by passing the list using a variable\n",
        "b = np.asarray(a_list, float)                           # yet another way of creating the ndarray by passing the list\n",
        "print(a)\n",
        "\n",
        "\n"
      ],
      "execution_count": 38,
      "outputs": [
        {
          "output_type": "stream",
          "text": [
            "[10. 20. 30. 40. 50.]\n",
            "[10. 20. 30. 40. 60.]\n"
          ],
          "name": "stdout"
        }
      ]
    },
    {
      "cell_type": "code",
      "metadata": {
        "colab_type": "code",
        "id": "dbrOdvE8SXOG",
        "colab": {
          "base_uri": "https://localhost:8080/",
          "height": 84
        },
        "outputId": "83a77e10-5036-485a-a10a-0487bc1c2e76"
      },
      "source": [
        "np.random.seed(0)                                    # With the seed reset (every time), the same set of numbers will appear every time. However, If the random seed is not reset, different numbers appear with every invocation\n",
        "a = np.random.random((2,2))                          # Create an array filled with random values. Returns random floats in the half-open interval [0.0, 1.0)\n",
        "print(a, \"\\n\")\n",
        "\n",
        "a1 = np.random.randint(0, high=10, size=6)          # Create an array filled with random integer values. Returns random floats in the half-open interval [0.0(low), 10(high))\n",
        "print(a1)"
      ],
      "execution_count": 39,
      "outputs": [
        {
          "output_type": "stream",
          "text": [
            "[[0.5488135  0.71518937]\n",
            " [0.60276338 0.54488318]] \n",
            "\n",
            "[9 3 5 2 4 7]\n"
          ],
          "name": "stdout"
        }
      ]
    },
    {
      "cell_type": "code",
      "metadata": {
        "id": "GD6YakYD5DzX",
        "colab_type": "code",
        "colab": {
          "base_uri": "https://localhost:8080/",
          "height": 134
        },
        "outputId": "150adf51-6245-4956-dba8-565039fb7f79"
      },
      "source": [
        "x=np.random.rand(2,3)        #Creating a Random array in between [0,1]\n",
        "print(\"x:\\n\",x)\n",
        "\n",
        "y=np.linspace(2,10,10) \n",
        "print(\"\\ny:\\n\",y)"
      ],
      "execution_count": 40,
      "outputs": [
        {
          "output_type": "stream",
          "text": [
            "x:\n",
            " [[0.891773   0.96366276 0.38344152]\n",
            " [0.79172504 0.52889492 0.56804456]]\n",
            "\n",
            "y:\n",
            " [ 2.          2.88888889  3.77777778  4.66666667  5.55555556  6.44444444\n",
            "  7.33333333  8.22222222  9.11111111 10.        ]\n"
          ],
          "name": "stdout"
        }
      ]
    },
    {
      "cell_type": "markdown",
      "metadata": {
        "colab_type": "text",
        "id": "W-dNJJISWAEt"
      },
      "source": [
        "# Array indexing"
      ]
    },
    {
      "cell_type": "code",
      "metadata": {
        "colab_type": "code",
        "id": "YvAx6uCgV3kv",
        "colab": {
          "base_uri": "https://localhost:8080/",
          "height": 235
        },
        "outputId": "7b398364-8159-4102-be07-eb563191266d"
      },
      "source": [
        "# To get a single element\n",
        "print(\"a1[2]: \", a1[2], \"\\n\")\n",
        "\n",
        "# To get the last element\n",
        "print(\"a1[-1]: \", a1[-1], \"\\n\")\n",
        "\n",
        "# Slicing the array or get a range of values\n",
        "print(\"a[:, 0]: \", a[0, :])\n",
        "\n",
        "x=np.array([1,2,3,4,5,6])\n",
        "print(\"slicing:\\n\",x[1:5:2])\n",
        "print(\"\\n x[:6:2] = \",x[:6:2])\n",
        "print(\"\\n x[1::2] = \",x[1::2])\n",
        "print(\"\\n x[1:6:] = \",x[1:6:])\n"
      ],
      "execution_count": 41,
      "outputs": [
        {
          "output_type": "stream",
          "text": [
            "a1[2]:  5 \n",
            "\n",
            "a1[-1]:  7 \n",
            "\n",
            "a[:, 0]:  [0.5488135  0.71518937]\n",
            "slicing:\n",
            " [2 4]\n",
            "\n",
            " x[:6:2] =  [1 3 5]\n",
            "\n",
            " x[1::2] =  [2 4 6]\n",
            "\n",
            " x[1:6:] =  [2 3 4 5 6]\n"
          ],
          "name": "stdout"
        }
      ]
    },
    {
      "cell_type": "code",
      "metadata": {
        "colab_type": "code",
        "id": "7kKFGNU5rsVY",
        "colab": {
          "base_uri": "https://localhost:8080/",
          "height": 118
        },
        "outputId": "7532f0bb-0e22-4bcf-9249-0442889eb4fc"
      },
      "source": [
        "# Boolean array indexing\n",
        "a = np.array([[1,2], [3, 4], [5, 6]])\n",
        "\n",
        "bool_idx = (a < 5)                             # Find the elements of a that are bigger than 2\n",
        "\n",
        "print(\"bool_idx:\\n\", bool_idx, \"\\n\")           # Print the bool_idx array\n",
        "\n",
        "print(a[bool_idx])                             # We use boolean array indexing to construct a rank 1 array consisting of the elements of a corresponding to the True values of bool_idx"
      ],
      "execution_count": 42,
      "outputs": [
        {
          "output_type": "stream",
          "text": [
            "bool_idx:\n",
            " [[ True  True]\n",
            " [ True  True]\n",
            " [False False]] \n",
            "\n",
            "[1 2 3 4]\n"
          ],
          "name": "stdout"
        }
      ]
    },
    {
      "cell_type": "code",
      "metadata": {
        "id": "J3-WBJzd5Dzq",
        "colab_type": "code",
        "colab": {
          "base_uri": "https://localhost:8080/",
          "height": 319
        },
        "outputId": "fa220fac-12e4-475b-a7b7-e00622655c27"
      },
      "source": [
        "#Slicing\n",
        "a=np.array([[2,4,6],\n",
        "           [8,10,12]])\n",
        "print(\"a:\\n\",a)\n",
        "print(\"\\nfirst row first cloumn element: \",a[0,0])\n",
        "print(\"\\nsecond row third column  element: \",a[1,2])\n",
        "print(\"\\nfirst row values : \",a[0:1:])\n",
        "print(\"\\nsecond row values : \",a[1:2:])\n",
        "print(\"\\nAlternate values from first row: \",a[0:1,::2])\n",
        "print(\"\\nThird column values :\\n\",a[:,2::2])\n",
        "a[a>4]\n",
        "\n"
      ],
      "execution_count": 43,
      "outputs": [
        {
          "output_type": "stream",
          "text": [
            "a:\n",
            " [[ 2  4  6]\n",
            " [ 8 10 12]]\n",
            "\n",
            "first row first cloumn element:  2\n",
            "\n",
            "second row third column  element:  12\n",
            "\n",
            "first row values :  [[2 4 6]]\n",
            "\n",
            "second row values :  [[ 8 10 12]]\n",
            "\n",
            "Alternate values from first row:  [[2 6]]\n",
            "\n",
            "Third column values :\n",
            " [[ 6]\n",
            " [12]]\n"
          ],
          "name": "stdout"
        },
        {
          "output_type": "execute_result",
          "data": {
            "text/plain": [
              "array([ 6,  8, 10, 12])"
            ]
          },
          "metadata": {
            "tags": []
          },
          "execution_count": 43
        }
      ]
    },
    {
      "cell_type": "code",
      "metadata": {
        "colab_type": "code",
        "id": "mkh86xE4t1BE",
        "colab": {
          "base_uri": "https://localhost:8080/",
          "height": 34
        },
        "outputId": "24d1a81c-822d-48c7-c304-279485fdce3d"
      },
      "source": [
        "# Another way to do the same task and way that you will encounter more commmonly\n",
        "a[a > 2]      # Array where the array is greater than \n"
      ],
      "execution_count": 44,
      "outputs": [
        {
          "output_type": "execute_result",
          "data": {
            "text/plain": [
              "array([ 4,  6,  8, 10, 12])"
            ]
          },
          "metadata": {
            "tags": []
          },
          "execution_count": 44
        }
      ]
    },
    {
      "cell_type": "markdown",
      "metadata": {
        "colab_type": "text",
        "id": "JeHc_8PYvzIG"
      },
      "source": [
        "# Array math\n",
        "Basic mathematical functions operate elementwise on arrays, and are available both as operator overloads and as functions in the numpy module"
      ]
    },
    {
      "cell_type": "code",
      "metadata": {
        "colab_type": "code",
        "id": "_s4hO9AxuK5a",
        "colab": {
          "base_uri": "https://localhost:8080/",
          "height": 722
        },
        "outputId": "1e702691-98b7-4913-efcd-8bf6e1fc13c1"
      },
      "source": [
        "x = np.array([[1,2],[3,4]], dtype=np.float64)\n",
        "y = np.array([[5,6],[7,8]], dtype=np.float64)\n",
        "\n",
        "# Elementwise sum\n",
        "print(\"Elementwise sum\")\n",
        "print(\"x + y:\\n\", x+y)\n",
        "print(\"np.add(x,y):\\n\", np.add(x,y))\n",
        "\n",
        "# Elementwise difference\n",
        "print(\"\\nElementwise difference\")\n",
        "print(\"x - y:\\n\", x - y)\n",
        "print(\"np.subtract(x, y):\\n\", np.subtract(x, y))\n",
        "\n",
        "# Elementwise product\n",
        "print(\"\\nElementwise product\")\n",
        "print(\"x * y:\\n\", x * y)\n",
        "print(\"np.multiply(x, y):\\n\", np.multiply(x, y))\n",
        "\n",
        "# Elementwise division\n",
        "print(\"\\nElementwise division\")\n",
        "print(\"x / y:\\n\", x / y)\n",
        "print(\"np.divide(x, y):\\n\", np.divide(x, y))\n",
        "\n",
        "# Elementwise square root\n",
        "print(\"\\nElementwise square root\")\n",
        "print(\"np.sqrt(x):\\n\", np.sqrt(x))\n",
        "print(\"square of array x elements :\\n\",pow(x,2,))\n",
        "print(\"cube  of array y  elements :\\n\",pow(y,3,))"
      ],
      "execution_count": 45,
      "outputs": [
        {
          "output_type": "stream",
          "text": [
            "Elementwise sum\n",
            "x + y:\n",
            " [[ 6.  8.]\n",
            " [10. 12.]]\n",
            "np.add(x,y):\n",
            " [[ 6.  8.]\n",
            " [10. 12.]]\n",
            "\n",
            "Elementwise difference\n",
            "x - y:\n",
            " [[-4. -4.]\n",
            " [-4. -4.]]\n",
            "np.subtract(x, y):\n",
            " [[-4. -4.]\n",
            " [-4. -4.]]\n",
            "\n",
            "Elementwise product\n",
            "x * y:\n",
            " [[ 5. 12.]\n",
            " [21. 32.]]\n",
            "np.multiply(x, y):\n",
            " [[ 5. 12.]\n",
            " [21. 32.]]\n",
            "\n",
            "Elementwise division\n",
            "x / y:\n",
            " [[0.2        0.33333333]\n",
            " [0.42857143 0.5       ]]\n",
            "np.divide(x, y):\n",
            " [[0.2        0.33333333]\n",
            " [0.42857143 0.5       ]]\n",
            "\n",
            "Elementwise square root\n",
            "np.sqrt(x):\n",
            " [[1.         1.41421356]\n",
            " [1.73205081 2.        ]]\n",
            "square of array x elements :\n",
            " [[ 1.  4.]\n",
            " [ 9. 16.]]\n",
            "cube  of array y  elements :\n",
            " [[125. 216.]\n",
            " [343. 512.]]\n"
          ],
          "name": "stdout"
        }
      ]
    },
    {
      "cell_type": "code",
      "metadata": {
        "colab_type": "code",
        "id": "cW8ia1y1yACI",
        "colab": {
          "base_uri": "https://localhost:8080/",
          "height": 202
        },
        "outputId": "2e02e2f1-8df8-45bc-97a8-3f318c17e994"
      },
      "source": [
        "# Dot product and cross product in matrices\n",
        "\n",
        "x = np.array([[1,2],[3,4]])\n",
        "y = np.array([[5,6],[7,8]])\n",
        "\n",
        "\n",
        "# Dot product of vectors\n",
        "print(\"x.dot(y):\\n\", x.dot(y))\n",
        "print(\"np.dot(x, y):\\n\", np.dot(x, y))\n",
        "\n",
        "# cross product do exist the method is same as dot product we call the function np.cross() but we won't do here because we won't use it much\n",
        "\n",
        "# X Transpose\n",
        "print(x, \"\\n------------------\")\n",
        "print(x.T) "
      ],
      "execution_count": 46,
      "outputs": [
        {
          "output_type": "stream",
          "text": [
            "x.dot(y):\n",
            " [[19 22]\n",
            " [43 50]]\n",
            "np.dot(x, y):\n",
            " [[19 22]\n",
            " [43 50]]\n",
            "[[1 2]\n",
            " [3 4]] \n",
            "------------------\n",
            "[[1 3]\n",
            " [2 4]]\n"
          ],
          "name": "stdout"
        }
      ]
    },
    {
      "cell_type": "code",
      "metadata": {
        "colab_type": "code",
        "id": "guZP_3bF2c58",
        "colab": {
          "base_uri": "https://localhost:8080/",
          "height": 269
        },
        "outputId": "14586ff0-c575-4d3f-e410-e9179083f0ae"
      },
      "source": [
        "! wget http://www.bijouxandbits.com/wp-content/uploads/2016/06/portal-cake-10.jpg"
      ],
      "execution_count": 47,
      "outputs": [
        {
          "output_type": "stream",
          "text": [
            "--2020-07-01 05:48:01--  http://www.bijouxandbits.com/wp-content/uploads/2016/06/portal-cake-10.jpg\n",
            "Resolving www.bijouxandbits.com (www.bijouxandbits.com)... 151.101.2.159\n",
            "Connecting to www.bijouxandbits.com (www.bijouxandbits.com)|151.101.2.159|:80... connected.\n",
            "HTTP request sent, awaiting response... 301 Moved Permanently\n",
            "Location: https://www.bijouxandbits.com/wp-content/uploads/2016/06/portal-cake-10.jpg [following]\n",
            "--2020-07-01 05:48:02--  https://www.bijouxandbits.com/wp-content/uploads/2016/06/portal-cake-10.jpg\n",
            "Connecting to www.bijouxandbits.com (www.bijouxandbits.com)|151.101.2.159|:443... connected.\n",
            "HTTP request sent, awaiting response... 200 OK\n",
            "Length: 273364 (267K) [image/jpeg]\n",
            "Saving to: ‘portal-cake-10.jpg.1’\n",
            "\n",
            "\rportal-cake-10.jpg.   0%[                    ]       0  --.-KB/s               \rportal-cake-10.jpg. 100%[===================>] 266.96K  --.-KB/s    in 0.06s   \n",
            "\n",
            "2020-07-01 05:48:02 (4.50 MB/s) - ‘portal-cake-10.jpg.1’ saved [273364/273364]\n",
            "\n"
          ],
          "name": "stdout"
        }
      ]
    },
    {
      "cell_type": "code",
      "metadata": {
        "colab_type": "code",
        "id": "o-bKzHWK3Ewh",
        "colab": {
          "base_uri": "https://localhost:8080/",
          "height": 34
        },
        "outputId": "e1f55f60-ca62-49b2-9763-b3ccf2bfc410"
      },
      "source": [
        "from skimage import io\n",
        "\n",
        "photo_array = io.imread('portal-cake-10.jpg')\n",
        "type(photo_array)"
      ],
      "execution_count": 48,
      "outputs": [
        {
          "output_type": "execute_result",
          "data": {
            "text/plain": [
              "numpy.ndarray"
            ]
          },
          "metadata": {
            "tags": []
          },
          "execution_count": 48
        }
      ]
    },
    {
      "cell_type": "code",
      "metadata": {
        "colab_type": "code",
        "id": "aV_rBgdH4Poz",
        "colab": {
          "base_uri": "https://localhost:8080/",
          "height": 840
        },
        "outputId": "073ccf1b-8326-41ad-cfb1-f226d35934a2"
      },
      "source": [
        "photo_array"
      ],
      "execution_count": 49,
      "outputs": [
        {
          "output_type": "execute_result",
          "data": {
            "text/plain": [
              "array([[[ 24,  28,  39],\n",
              "        [ 24,  28,  39],\n",
              "        [ 24,  28,  39],\n",
              "        ...,\n",
              "        [ 15,  23,  26],\n",
              "        [ 14,  22,  25],\n",
              "        [ 16,  21,  25]],\n",
              "\n",
              "       [[ 23,  27,  38],\n",
              "        [ 23,  27,  38],\n",
              "        [ 23,  27,  38],\n",
              "        ...,\n",
              "        [ 16,  24,  27],\n",
              "        [ 14,  22,  25],\n",
              "        [ 13,  21,  24]],\n",
              "\n",
              "       [[ 23,  27,  38],\n",
              "        [ 24,  28,  39],\n",
              "        [ 24,  28,  39],\n",
              "        ...,\n",
              "        [ 15,  23,  26],\n",
              "        [ 13,  21,  24],\n",
              "        [ 13,  21,  24]],\n",
              "\n",
              "       ...,\n",
              "\n",
              "       [[176, 176, 188],\n",
              "        [179, 181, 193],\n",
              "        [183, 192, 201],\n",
              "        ...,\n",
              "        [ 23,  26,  31],\n",
              "        [ 22,  25,  30],\n",
              "        [ 22,  25,  30]],\n",
              "\n",
              "       [[144, 151, 167],\n",
              "        [152, 162, 174],\n",
              "        [163, 173, 185],\n",
              "        ...,\n",
              "        [ 22,  25,  30],\n",
              "        [ 21,  24,  29],\n",
              "        [ 21,  24,  29]],\n",
              "\n",
              "       [[ 90, 108, 122],\n",
              "        [103, 119, 134],\n",
              "        [115, 131, 144],\n",
              "        ...,\n",
              "        [ 22,  25,  30],\n",
              "        [ 22,  25,  30],\n",
              "        [ 23,  26,  31]]], dtype=uint8)"
            ]
          },
          "metadata": {
            "tags": []
          },
          "execution_count": 49
        }
      ]
    },
    {
      "cell_type": "code",
      "metadata": {
        "colab_type": "code",
        "id": "8hZDKSVe4VhZ",
        "colab": {
          "base_uri": "https://localhost:8080/",
          "height": 34
        },
        "outputId": "b0a8e576-a410-4429-f427-b338195ffadd"
      },
      "source": [
        "photo_array.shape"
      ],
      "execution_count": 50,
      "outputs": [
        {
          "output_type": "execute_result",
          "data": {
            "text/plain": [
              "(800, 800, 3)"
            ]
          },
          "metadata": {
            "tags": []
          },
          "execution_count": 50
        }
      ]
    },
    {
      "cell_type": "code",
      "metadata": {
        "colab_type": "code",
        "id": "B-TPfpEX4hXa",
        "colab": {
          "base_uri": "https://localhost:8080/",
          "height": 840
        },
        "outputId": "168e36ca-c32c-4f5f-f27b-2e1fd84ee908"
      },
      "source": [
        "photo_sin = np.sin(photo_array)\n",
        "photo_sin"
      ],
      "execution_count": 51,
      "outputs": [
        {
          "output_type": "execute_result",
          "data": {
            "text/plain": [
              "array([[[-0.906  ,  0.271  ,  0.964  ],\n",
              "        [-0.906  ,  0.271  ,  0.964  ],\n",
              "        [-0.906  ,  0.271  ,  0.964  ],\n",
              "        ...,\n",
              "        [ 0.6504 , -0.846  ,  0.7627 ],\n",
              "        [ 0.9907 , -0.00885, -0.1323 ],\n",
              "        [-0.2878 ,  0.8364 , -0.1323 ]],\n",
              "\n",
              "       [[-0.846  ,  0.9565 ,  0.2964 ],\n",
              "        [-0.846  ,  0.9565 ,  0.2964 ],\n",
              "        [-0.846  ,  0.9565 ,  0.2964 ],\n",
              "        ...,\n",
              "        [-0.2878 , -0.906  ,  0.9565 ],\n",
              "        [ 0.9907 , -0.00885, -0.1323 ],\n",
              "        [ 0.4202 ,  0.8364 , -0.906  ]],\n",
              "\n",
              "       [[-0.846  ,  0.9565 ,  0.2964 ],\n",
              "        [-0.906  ,  0.271  ,  0.964  ],\n",
              "        [-0.906  ,  0.271  ,  0.964  ],\n",
              "        ...,\n",
              "        [ 0.6504 , -0.846  ,  0.7627 ],\n",
              "        [ 0.4202 ,  0.8364 , -0.906  ],\n",
              "        [ 0.4202 ,  0.8364 , -0.906  ]],\n",
              "\n",
              "       ...,\n",
              "\n",
              "       [[ 0.07074,  0.07074, -0.4756 ],\n",
              "        [ 0.07074, -0.9365 , -0.9785 ],\n",
              "        [ 0.7085 , -0.355  , -0.0619 ],\n",
              "        ...,\n",
              "        [-0.846  ,  0.7627 , -0.404  ],\n",
              "        [-0.00885, -0.1323 , -0.988  ],\n",
              "        [-0.00885, -0.1323 , -0.988  ]],\n",
              "\n",
              "       [[-0.491  ,  0.2021 , -0.4756 ],\n",
              "        [ 0.933  , -0.9785 , -0.9365 ],\n",
              "        [-0.355  , -0.2108 ,  0.3467 ],\n",
              "        ...,\n",
              "        [-0.00885, -0.1323 , -0.988  ],\n",
              "        [ 0.8364 , -0.906  , -0.6636 ],\n",
              "        [ 0.8364 , -0.906  , -0.6636 ]],\n",
              "\n",
              "       [[ 0.894  ,  0.927  ,  0.4988 ],\n",
              "        [ 0.623  , -0.3713 ,  0.8857 ],\n",
              "        [ 0.9453 , -0.8115 , -0.491  ],\n",
              "        ...,\n",
              "        [-0.00885, -0.1323 , -0.988  ],\n",
              "        [-0.00885, -0.1323 , -0.988  ],\n",
              "        [-0.846  ,  0.7627 , -0.404  ]]], dtype=float16)"
            ]
          },
          "metadata": {
            "tags": []
          },
          "execution_count": 51
        }
      ]
    },
    {
      "cell_type": "code",
      "metadata": {
        "colab_type": "code",
        "id": "1EilDLB440lp",
        "colab": {
          "base_uri": "https://localhost:8080/",
          "height": 319
        },
        "outputId": "eaa4093e-5f6a-4316-f431-a6ed8ae0ae7e"
      },
      "source": [
        "# Compute the sum of all elements\n",
        "print(\"np.sum(photo_sin):\\n\", np.sum(photo_sin))                  # Compute sum of all elements\n",
        "print(\"np.sum(photo_sin, axis=0):\\n\", np.sum(photo_sin, axis=0))  # Compute sum of each column\n",
        "print(\"np.sum(photo_sin, axis=1):\\n\", np.sum(photo_sin, axis=1))  # Compute sum of each row"
      ],
      "execution_count": 52,
      "outputs": [
        {
          "output_type": "stream",
          "text": [
            "np.sum(photo_sin):\n",
            " 2412.0\n",
            "np.sum(photo_sin, axis=0):\n",
            " [[-21.45   29.53  -54.7  ]\n",
            " [-30.5    -1.731 -76.56 ]\n",
            " [-26.38   29.97  -82.4  ]\n",
            " ...\n",
            " [ 70.8   -34.4    39.28 ]\n",
            " [ 61.22  -59.34   12.875]\n",
            " [ 61.28  -47.06   38.16 ]]\n",
            "np.sum(photo_sin, axis=1):\n",
            " [[ 67.2    70.9   -71.6  ]\n",
            " [ 37.97  125.06  -85.75 ]\n",
            " [ 19.16   72.1   -54.88 ]\n",
            " ...\n",
            " [  8.086  26.97  -53.56 ]\n",
            " [ -2.115   8.11   26.61 ]\n",
            " [  3.44  -23.48   21.14 ]]\n"
          ],
          "name": "stdout"
        }
      ]
    },
    {
      "cell_type": "code",
      "metadata": {
        "colab_type": "code",
        "id": "9oiwuvv55Ws1",
        "colab": {
          "base_uri": "https://localhost:8080/",
          "height": 286
        },
        "outputId": "31c92669-a3a4-431e-d415-2062b07d4b04"
      },
      "source": [
        "# Some statistics\n",
        "print(\"np.mean(photo_sin):\\n\", np.mean(photo_sin))                  # Compute mean of all elements\n",
        "print(\"np.std(photo_sin):\\n\", np.std(photo_sin))                    # Compute standard deviation of all elements\n",
        "print(\"np.var(photo_sin):\\n\", np.var(photo_sin))                    # Compute variance of all elements\n",
        "print(\"np.min(photo_sin):\\n\", np.min(photo_sin))                    # Compute minimum of all elements\n",
        "print(\"np.max(photo_sin):\\n\", np.max(photo_sin))                    # Compute maximum of all elements\n",
        "print(\"np.argmin(photo_sin):\\n\", np.argmin(photo_sin))              # Compute index of minimum of all elements(the index is into the flattened array)\n",
        "print(\"np.argmax(photo_sin):\\n\", np.argmax(photo_sin))              # Compute index of maximum of all elements(the index is into the flattened array)"
      ],
      "execution_count": 53,
      "outputs": [
        {
          "output_type": "stream",
          "text": [
            "np.mean(photo_sin):\n",
            " 0.001247\n",
            "np.std(photo_sin):\n",
            " inf\n",
            "np.var(photo_sin):\n",
            " inf\n",
            "np.min(photo_sin):\n",
            " -1.0\n",
            "np.max(photo_sin):\n",
            " 1.0\n",
            "np.argmin(photo_sin):\n",
            " 7176\n",
            "np.argmax(photo_sin):\n",
            " 247\n"
          ],
          "name": "stdout"
        },
        {
          "output_type": "stream",
          "text": [
            "/usr/local/lib/python3.6/dist-packages/numpy/core/_methods.py:199: RuntimeWarning: overflow encountered in reduce\n",
            "  ret = umr_sum(x, axis, dtype, out, keepdims)\n"
          ],
          "name": "stderr"
        }
      ]
    },
    {
      "cell_type": "markdown",
      "metadata": {
        "colab_type": "text",
        "id": "9-gg49y9GgpE"
      },
      "source": [
        "# Plotting\n",
        "\n",
        "\n"
      ]
    },
    {
      "cell_type": "code",
      "metadata": {
        "colab_type": "code",
        "id": "wsc5mWHqG15C",
        "colab": {}
      },
      "source": [
        "import matplotlib.pyplot as plt"
      ],
      "execution_count": 54,
      "outputs": []
    },
    {
      "cell_type": "code",
      "metadata": {
        "colab_type": "code",
        "id": "vlgwG7sFG3-y",
        "colab": {
          "base_uri": "https://localhost:8080/",
          "height": 185
        },
        "outputId": "af5f7e17-909a-452a-d7c2-33f8eebd6c61"
      },
      "source": [
        "x = np.random.random((10, 1))\n",
        "print(x)"
      ],
      "execution_count": 55,
      "outputs": [
        {
          "output_type": "stream",
          "text": [
            "[[0.92559664]\n",
            " [0.07103606]\n",
            " [0.0871293 ]\n",
            " [0.0202184 ]\n",
            " [0.83261985]\n",
            " [0.77815675]\n",
            " [0.87001215]\n",
            " [0.97861834]\n",
            " [0.79915856]\n",
            " [0.46147936]]\n"
          ],
          "name": "stdout"
        }
      ]
    },
    {
      "cell_type": "code",
      "metadata": {
        "colab_type": "code",
        "id": "jBA6ZDvHG9-Y",
        "colab": {
          "base_uri": "https://localhost:8080/",
          "height": 265
        },
        "outputId": "174d03c9-5c70-4faf-9605-4da23a7fc11a"
      },
      "source": [
        "plt.plot(x, '*-')\n",
        "plt.show()"
      ],
      "execution_count": 56,
      "outputs": [
        {
          "output_type": "display_data",
          "data": {
            "image/png": "[encoded data removed]",
            "text/plain": [
              "<Figure size 432x288 with 1 Axes>"
            ]
          },
          "metadata": {
            "tags": [],
            "needs_background": "light"
          }
        }
      ]
    },
    {
      "cell_type": "markdown",
      "metadata": {
        "colab_type": "text",
        "id": "kqWF-LT6l3LP"
      },
      "source": [
        "**Some key points to know from my mistake**\n",
        "\n",
        "Previous(with error) code:\n",
        "```\n",
        "x = np.linspace(0, 100, 50)\n",
        "y = np.power(x, 2)\n",
        "plt.plot(x, y, label='y = x^2', '+')\n",
        "plt.set_xlabel('X')\n",
        "plt.set_ylabel('Y')\n",
        "```\n",
        "Matplotlib had the pyplot interface, and then later developed the object-oriented interface.\n",
        "1. I was doing wrong by passing the attribute of **object-oriented interface** to **pyplot interface**. We will learn about **object-oriented interface** when we will use it. It's easy to use **pyplot interface** and fullfil most of the requirements. So we are studying here. I tried to cover up **Only the necessary ones**\n",
        "2. To use labels we need a continous line and we also need to call `plt.legend()` as well.Sorry my mistakes😅 .\n",
        "\n",
        "\n"
      ]
    },
    {
      "cell_type": "code",
      "metadata": {
        "colab_type": "code",
        "id": "-NWe8_kyHCBo",
        "colab": {
          "base_uri": "https://localhost:8080/",
          "height": 295
        },
        "outputId": "e64d4f3b-0d9e-43cf-8c13-3a77be8fc0ac"
      },
      "source": [
        "x = np.linspace(0, 100, 50)\n",
        "y = np.power(x, 2)\n",
        "plt.plot(x, y, label='y = x^2') \n",
        "plt.xlabel('X')                      \n",
        "plt.ylabel('Y')\n",
        "plt.legend()\n",
        "plt.title('Square Funtion')\n",
        "plt.show()"
      ],
      "execution_count": 57,
      "outputs": [
        {
          "output_type": "display_data",
          "data": {
            "image/png": "[encoded data removed]",
            "text/plain": [
              "<Figure size 432x288 with 1 Axes>"
            ]
          },
          "metadata": {
            "tags": [],
            "needs_background": "light"
          }
        }
      ]
    },
    {
      "cell_type": "markdown",
      "metadata": {
        "colab_type": "text",
        "id": "yvao7nAlhnFt"
      },
      "source": [
        "# Broadcasting\n",
        "Broadcasting is a powerful mechanism that allows numpy to work with arrays of different shapes when performing arithmetic operations\n",
        "\n",
        "Generalising broadcasting\n",
        "1. (m,n) math_operation (1,n) => (m,n)\n",
        "2. (m,n) math_operation (m,1) => (m,n)\n",
        "3. (m,n) math_operation scalar => (m,n)\n",
        "4. (m,1) math_operation scalar => (m,1)\n",
        "5. (1,n) math_operation scalar => (1,n)"
      ]
    },
    {
      "cell_type": "code",
      "metadata": {
        "colab_type": "code",
        "id": "UiJ8ZhNBjKBP",
        "colab": {
          "base_uri": "https://localhost:8080/",
          "height": 84
        },
        "outputId": "cb495a94-68de-414c-d18c-f03ea328b1d4"
      },
      "source": [
        "x = np.array([[1,2,3], [4,5,6], [7,8,9], [10, 11, 12]])\n",
        "y = np.array([1, 0, 1])\n",
        "\n",
        "z = x + y                                 # add y to each row using broadcasting\n",
        "z"
      ],
      "execution_count": 58,
      "outputs": [
        {
          "output_type": "execute_result",
          "data": {
            "text/plain": [
              "array([[ 2,  2,  4],\n",
              "       [ 5,  5,  7],\n",
              "       [ 8,  8, 10],\n",
              "       [11, 11, 13]])"
            ]
          },
          "metadata": {
            "tags": []
          },
          "execution_count": 58
        }
      ]
    },
    {
      "cell_type": "code",
      "metadata": {
        "colab_type": "code",
        "id": "nn7Jyykmtzos",
        "colab": {
          "base_uri": "https://localhost:8080/",
          "height": 67
        },
        "outputId": "bb74704b-0fd4-4259-a26d-2126211cd44a"
      },
      "source": [
        "# One more example of Broadcasting\n",
        "# Compute outer product of vectors\n",
        "v = np.array([1,2,3])  # v has shape (3,)\n",
        "w = np.array([4,5])    # w has shape (2,)\n",
        "\n",
        "# To compute an outer product, we first reshape v to be a column\n",
        "# vector of shape (3, 1); we can then broadcast it against w to yield\n",
        "# an output of shape (3, 2), which is the outer product of v and w:\n",
        "# [[1 1]     [[4 5]  => [[ 4  5]\n",
        "#  [2 2]  *   [4 5]  =>  [ 8 10]\n",
        "#  [3 3]]     [4 5]] =>  [12 15]]\n",
        "print(np.reshape(v, (3, 1)) * w)"
      ],
      "execution_count": 59,
      "outputs": [
        {
          "output_type": "stream",
          "text": [
            "[[ 4  5]\n",
            " [ 8 10]\n",
            " [12 15]]\n"
          ],
          "name": "stdout"
        }
      ]
    },
    {
      "cell_type": "markdown",
      "metadata": {
        "colab_type": "text",
        "id": "atfCTa8-v567"
      },
      "source": [
        "# So how fast is numpy?"
      ]
    },
    {
      "cell_type": "code",
      "metadata": {
        "colab_type": "code",
        "id": "Z6L6Nm7Tv_vt",
        "colab": {
          "base_uri": "https://localhost:8080/",
          "height": 50
        },
        "outputId": "3fd0cefa-13fd-47a6-bb0d-88dd962c9bd8"
      },
      "source": [
        "import time\n",
        "size = 1000000  #Size of array \n",
        "L1 = range(size)\n",
        "L2 = range(size)\n",
        "\n",
        "a1 = np.arange(size)  # It creates an instance of ndarray with evenly spaced values. Here, [0, size)\n",
        "a2 = np.arange(size)  # It creates an instance of ndarray with evenly spaced values. Here, [0, size)\n",
        "\n",
        "## list\n",
        "start = time.time()\n",
        "result = [(x+y) for x,y in zip(L1 , L2)]\n",
        "print(\"python list took :\" ,(time.time()-start)*1000 )\n",
        "\n",
        "\n",
        "## numpy array\n",
        "start = time.time()\n",
        "result = a1 + a2\n",
        "print(\"numpy array took :\" ,(time.time() - start)*1000)\n"
      ],
      "execution_count": 60,
      "outputs": [
        {
          "output_type": "stream",
          "text": [
            "python list took : 114.82906341552734\n",
            "numpy array took : 13.814210891723633\n"
          ],
          "name": "stdout"
        }
      ]
    },
    {
      "cell_type": "markdown",
      "metadata": {
        "colab_type": "text",
        "id": "QWwkst4lxVTH"
      },
      "source": [
        "## Final words\n",
        "Thanks to all the bloggers and developers from where I compiled all the resources.\n",
        "Some useful refrences but not limited to:\n",
        "1. [Learn NUMPY in 5 minutes - BEST Python Library!](https://www.youtube.com/watch?v=xECXZ3tyONo&list=PLKmLrMJKg-cK5PAjJjgeA5IayDGbeUlQl&index=40&t=0s)\n",
        "2. [Python Numpy Tutorial](https://cs231n.github.io/python-numpy-tutorial/)\n",
        "3. [Matplotlib in Python](https://www.youtube.com/watch?v=6rKe2IEIu8c)\n"
      ]
    }
  ]
}